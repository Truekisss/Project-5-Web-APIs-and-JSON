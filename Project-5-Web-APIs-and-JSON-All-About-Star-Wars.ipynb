{
 "cells": [
  {
   "cell_type": "markdown",
   "metadata": {},
   "source": [
    "# Project 5: Data Import - Working with Web APIs and JSON (Movies Dataset)"
   ]
  },
  {
   "cell_type": "markdown",
   "metadata": {},
   "source": [
    "## Problem definition\n",
    "To get all kind of information for the movie __Star Wars The Force Awakens__."
   ]
  },
  {
   "cell_type": "markdown",
   "metadata": {},
   "source": [
    "## Data\n",
    "The original data came from https://developers.themoviedb.org/3/movies/get-movie-details"
   ]
  },
  {
   "cell_type": "markdown",
   "metadata": {},
   "source": [
    "## Preparing the tools\n",
    "\n",
    "We're going to use pandas and requests and we are going to define that panda should display 30 colums."
   ]
  },
  {
   "cell_type": "code",
   "execution_count": 29,
   "metadata": {},
   "outputs": [],
   "source": [
    "import pandas as pd\n",
    "import requests\n",
    "pd.options.display.max_columns = 30"
   ]
  },
  {
   "cell_type": "code",
   "execution_count": 30,
   "metadata": {},
   "outputs": [],
   "source": [
    "# Creating ERL file.\n",
    "# Saving authentication fragment.\n",
    "api_key = \"api_key=c67eaf68c6c2114e98d57a4f891de8b7\""
   ]
  },
  {
   "cell_type": "code",
   "execution_count": 31,
   "metadata": {},
   "outputs": [],
   "source": [
    "# The id for the Star Wars The Force Awakens is 140607\n",
    "movie_id = 140607"
   ]
  },
  {
   "cell_type": "code",
   "execution_count": 32,
   "metadata": {},
   "outputs": [
    {
     "data": {
      "text/plain": [
       "'https://api.themoviedb.org/3/movie/{}?'"
      ]
     },
     "execution_count": 32,
     "metadata": {},
     "output_type": "execute_result"
    }
   ],
   "source": [
    "# Saving general path and the variable movie API.\n",
    "movie_api = \"https://api.themoviedb.org/3/movie/{}?\"\n",
    "movie_api"
   ]
  },
  {
   "cell_type": "code",
   "execution_count": 33,
   "metadata": {},
   "outputs": [
    {
     "data": {
      "text/plain": [
       "'https://api.themoviedb.org/3/movie/140607?api_key=c67eaf68c6c2114e98d57a4f891de8b7'"
      ]
     },
     "execution_count": 33,
     "metadata": {},
     "output_type": "execute_result"
    }
   ],
   "source": [
    "# Replacing curly brackets with the movie ID with .format then we join both fragments.\n",
    "url = movie_api.format(movie_id) + api_key\n",
    "url"
   ]
  },
  {
   "cell_type": "code",
   "execution_count": 34,
   "metadata": {},
   "outputs": [
    {
     "data": {
      "text/plain": [
       "<Response [200]>"
      ]
     },
     "execution_count": 34,
     "metadata": {},
     "output_type": "execute_result"
    }
   ],
   "source": [
    "# 2 options\n",
    "    # Simply copy the URL and paste it to the web browser and we recieve data in JSON format (hands on approach).\n",
    "    # We can automate and scale the process.\n",
    "# Submiting HTTP request\n",
    "# 200 stands for we had no problem and that the movie exists.\n",
    "r = requests.get(url)\n",
    "r"
   ]
  },
  {
   "cell_type": "code",
   "execution_count": 35,
   "metadata": {},
   "outputs": [],
   "source": [
    "# Using method JSON on the response object r.\n",
    "data = r.json()"
   ]
  },
  {
   "cell_type": "code",
   "execution_count": 36,
   "metadata": {
    "scrolled": false
   },
   "outputs": [
    {
     "data": {
      "text/plain": [
       "{'adult': False,\n",
       " 'backdrop_path': '/k6EOrckWFuz7I4z4wiRwz8zsj4H.jpg',\n",
       " 'belongs_to_collection': {'id': 10,\n",
       "  'name': 'Star Wars Collection',\n",
       "  'poster_path': '/r8Ph5MYXL04Qzu4QBbq2KjqwtkQ.jpg',\n",
       "  'backdrop_path': '/d8duYyyC9J5T825Hg7grmaabfxQ.jpg'},\n",
       " 'budget': 245000000,\n",
       " 'genres': [{'id': 28, 'name': 'Action'},\n",
       "  {'id': 12, 'name': 'Adventure'},\n",
       "  {'id': 878, 'name': 'Science Fiction'},\n",
       "  {'id': 14, 'name': 'Fantasy'}],\n",
       " 'homepage': 'http://www.starwars.com/films/star-wars-episode-vii',\n",
       " 'id': 140607,\n",
       " 'imdb_id': 'tt2488496',\n",
       " 'original_language': 'en',\n",
       " 'original_title': 'Star Wars: The Force Awakens',\n",
       " 'overview': 'Thirty years after defeating the Galactic Empire, Han Solo and his allies face a new threat from the evil Kylo Ren and his army of Stormtroopers.',\n",
       " 'popularity': 35.592,\n",
       " 'poster_path': '/wqnLdwVXoBjKibFRR5U3y0aDUhs.jpg',\n",
       " 'production_companies': [{'id': 1634,\n",
       "   'logo_path': None,\n",
       "   'name': 'Truenorth Productions',\n",
       "   'origin_country': 'IS'},\n",
       "  {'id': 1,\n",
       "   'logo_path': '/o86DbpburjxrqAzEDhXZcyE8pDb.png',\n",
       "   'name': 'Lucasfilm Ltd.',\n",
       "   'origin_country': 'US'},\n",
       "  {'id': 11461,\n",
       "   'logo_path': '/p9FoEt5shEKRWRKVIlvFaEmRnun.png',\n",
       "   'name': 'Bad Robot',\n",
       "   'origin_country': 'US'}],\n",
       " 'production_countries': [{'iso_3166_1': 'US',\n",
       "   'name': 'United States of America'}],\n",
       " 'release_date': '2015-12-15',\n",
       " 'revenue': 2068223624,\n",
       " 'runtime': 136,\n",
       " 'spoken_languages': [{'iso_639_1': 'en', 'name': 'English'}],\n",
       " 'status': 'Released',\n",
       " 'tagline': 'Every generation has a story.',\n",
       " 'title': 'Star Wars: The Force Awakens',\n",
       " 'video': False,\n",
       " 'vote_average': 7.4,\n",
       " 'vote_count': 14688}"
      ]
     },
     "execution_count": 36,
     "metadata": {},
     "output_type": "execute_result"
    }
   ],
   "source": [
    "# JSON returns the JSON encoded content of our response.\n",
    "data"
   ]
  },
  {
   "cell_type": "code",
   "execution_count": 37,
   "metadata": {},
   "outputs": [
    {
     "data": {
      "text/plain": [
       "dict"
      ]
     },
     "execution_count": 37,
     "metadata": {},
     "output_type": "execute_result"
    }
   ],
   "source": [
    "type(data)"
   ]
  },
  {
   "cell_type": "code",
   "execution_count": 40,
   "metadata": {
    "scrolled": true
   },
   "outputs": [
    {
     "data": {
      "text/plain": [
       "adult                                                                False\n",
       "backdrop_path                             /k6EOrckWFuz7I4z4wiRwz8zsj4H.jpg\n",
       "belongs_to_collection    {'id': 10, 'name': 'Star Wars Collection', 'po...\n",
       "budget                                                           245000000\n",
       "genres                   [{'id': 28, 'name': 'Action'}, {'id': 12, 'nam...\n",
       "homepage                 http://www.starwars.com/films/star-wars-episod...\n",
       "id                                                                  140607\n",
       "imdb_id                                                          tt2488496\n",
       "original_language                                                       en\n",
       "original_title                                Star Wars: The Force Awakens\n",
       "overview                 Thirty years after defeating the Galactic Empi...\n",
       "popularity                                                          35.592\n",
       "poster_path                               /wqnLdwVXoBjKibFRR5U3y0aDUhs.jpg\n",
       "production_companies     [{'id': 1634, 'logo_path': None, 'name': 'True...\n",
       "production_countries     [{'iso_3166_1': 'US', 'name': 'United States o...\n",
       "release_date                                                    2015-12-15\n",
       "revenue                                                         2068223624\n",
       "runtime                                                                136\n",
       "spoken_languages                  [{'iso_639_1': 'en', 'name': 'English'}]\n",
       "status                                                            Released\n",
       "tagline                                      Every generation has a story.\n",
       "title                                         Star Wars: The Force Awakens\n",
       "video                                                                False\n",
       "vote_average                                                           7.4\n",
       "vote_count                                                           14688\n",
       "dtype: object"
      ]
     },
     "execution_count": 40,
     "metadata": {},
     "output_type": "execute_result"
    }
   ],
   "source": [
    "# Transforming into data frame wont work, however it can be passed to pd.Series().\n",
    "pd.Series(data)"
   ]
  },
  {
   "cell_type": "code",
   "execution_count": 41,
   "metadata": {},
   "outputs": [
    {
     "data": {
      "text/html": [
       "<div>\n",
       "<style scoped>\n",
       "    .dataframe tbody tr th:only-of-type {\n",
       "        vertical-align: middle;\n",
       "    }\n",
       "\n",
       "    .dataframe tbody tr th {\n",
       "        vertical-align: top;\n",
       "    }\n",
       "\n",
       "    .dataframe thead th {\n",
       "        text-align: right;\n",
       "    }\n",
       "</style>\n",
       "<table border=\"1\" class=\"dataframe\">\n",
       "  <thead>\n",
       "    <tr style=\"text-align: right;\">\n",
       "      <th></th>\n",
       "      <th>adult</th>\n",
       "      <th>backdrop_path</th>\n",
       "      <th>belongs_to_collection</th>\n",
       "      <th>budget</th>\n",
       "      <th>genres</th>\n",
       "      <th>homepage</th>\n",
       "      <th>id</th>\n",
       "      <th>imdb_id</th>\n",
       "      <th>original_language</th>\n",
       "      <th>original_title</th>\n",
       "      <th>overview</th>\n",
       "      <th>popularity</th>\n",
       "      <th>poster_path</th>\n",
       "      <th>production_companies</th>\n",
       "      <th>production_countries</th>\n",
       "      <th>release_date</th>\n",
       "      <th>revenue</th>\n",
       "      <th>runtime</th>\n",
       "      <th>spoken_languages</th>\n",
       "      <th>status</th>\n",
       "      <th>tagline</th>\n",
       "      <th>title</th>\n",
       "      <th>video</th>\n",
       "      <th>vote_average</th>\n",
       "      <th>vote_count</th>\n",
       "    </tr>\n",
       "  </thead>\n",
       "  <tbody>\n",
       "    <tr>\n",
       "      <th>0</th>\n",
       "      <td>False</td>\n",
       "      <td>/k6EOrckWFuz7I4z4wiRwz8zsj4H.jpg</td>\n",
       "      <td>{'id': 10, 'name': 'Star Wars Collection', 'po...</td>\n",
       "      <td>245000000</td>\n",
       "      <td>[{'id': 28, 'name': 'Action'}, {'id': 12, 'nam...</td>\n",
       "      <td>http://www.starwars.com/films/star-wars-episod...</td>\n",
       "      <td>140607</td>\n",
       "      <td>tt2488496</td>\n",
       "      <td>en</td>\n",
       "      <td>Star Wars: The Force Awakens</td>\n",
       "      <td>Thirty years after defeating the Galactic Empi...</td>\n",
       "      <td>35.592</td>\n",
       "      <td>/wqnLdwVXoBjKibFRR5U3y0aDUhs.jpg</td>\n",
       "      <td>[{'id': 1634, 'logo_path': None, 'name': 'True...</td>\n",
       "      <td>[{'iso_3166_1': 'US', 'name': 'United States o...</td>\n",
       "      <td>2015-12-15</td>\n",
       "      <td>2068223624</td>\n",
       "      <td>136</td>\n",
       "      <td>[{'iso_639_1': 'en', 'name': 'English'}]</td>\n",
       "      <td>Released</td>\n",
       "      <td>Every generation has a story.</td>\n",
       "      <td>Star Wars: The Force Awakens</td>\n",
       "      <td>False</td>\n",
       "      <td>7.4</td>\n",
       "      <td>14688</td>\n",
       "    </tr>\n",
       "  </tbody>\n",
       "</table>\n",
       "</div>"
      ],
      "text/plain": [
       "   adult                     backdrop_path  \\\n",
       "0  False  /k6EOrckWFuz7I4z4wiRwz8zsj4H.jpg   \n",
       "\n",
       "                               belongs_to_collection     budget  \\\n",
       "0  {'id': 10, 'name': 'Star Wars Collection', 'po...  245000000   \n",
       "\n",
       "                                              genres  \\\n",
       "0  [{'id': 28, 'name': 'Action'}, {'id': 12, 'nam...   \n",
       "\n",
       "                                            homepage      id    imdb_id  \\\n",
       "0  http://www.starwars.com/films/star-wars-episod...  140607  tt2488496   \n",
       "\n",
       "  original_language                original_title  \\\n",
       "0                en  Star Wars: The Force Awakens   \n",
       "\n",
       "                                            overview popularity  \\\n",
       "0  Thirty years after defeating the Galactic Empi...     35.592   \n",
       "\n",
       "                        poster_path  \\\n",
       "0  /wqnLdwVXoBjKibFRR5U3y0aDUhs.jpg   \n",
       "\n",
       "                                production_companies  \\\n",
       "0  [{'id': 1634, 'logo_path': None, 'name': 'True...   \n",
       "\n",
       "                                production_countries release_date     revenue  \\\n",
       "0  [{'iso_3166_1': 'US', 'name': 'United States o...   2015-12-15  2068223624   \n",
       "\n",
       "  runtime                          spoken_languages    status  \\\n",
       "0     136  [{'iso_639_1': 'en', 'name': 'English'}]  Released   \n",
       "\n",
       "                         tagline                         title  video  \\\n",
       "0  Every generation has a story.  Star Wars: The Force Awakens  False   \n",
       "\n",
       "  vote_average vote_count  \n",
       "0          7.4      14688  "
      ]
     },
     "execution_count": 41,
     "metadata": {},
     "output_type": "execute_result"
    }
   ],
   "source": [
    "# Converting panda series to a data frame with to.frame() and transpose the data frame, and save the result sin df.\n",
    "df = pd.Series(data).to_frame().T\n",
    "df"
   ]
  },
  {
   "cell_type": "code",
   "execution_count": 43,
   "metadata": {},
   "outputs": [
    {
     "data": {
      "text/html": [
       "<div>\n",
       "<style scoped>\n",
       "    .dataframe tbody tr th:only-of-type {\n",
       "        vertical-align: middle;\n",
       "    }\n",
       "\n",
       "    .dataframe tbody tr th {\n",
       "        vertical-align: top;\n",
       "    }\n",
       "\n",
       "    .dataframe thead th {\n",
       "        text-align: right;\n",
       "    }\n",
       "</style>\n",
       "<table border=\"1\" class=\"dataframe\">\n",
       "  <thead>\n",
       "    <tr style=\"text-align: right;\">\n",
       "      <th></th>\n",
       "      <th>adult</th>\n",
       "      <th>backdrop_path</th>\n",
       "      <th>budget</th>\n",
       "      <th>genres</th>\n",
       "      <th>homepage</th>\n",
       "      <th>id</th>\n",
       "      <th>imdb_id</th>\n",
       "      <th>original_language</th>\n",
       "      <th>original_title</th>\n",
       "      <th>overview</th>\n",
       "      <th>popularity</th>\n",
       "      <th>poster_path</th>\n",
       "      <th>production_companies</th>\n",
       "      <th>production_countries</th>\n",
       "      <th>release_date</th>\n",
       "      <th>revenue</th>\n",
       "      <th>runtime</th>\n",
       "      <th>spoken_languages</th>\n",
       "      <th>status</th>\n",
       "      <th>tagline</th>\n",
       "      <th>title</th>\n",
       "      <th>video</th>\n",
       "      <th>vote_average</th>\n",
       "      <th>vote_count</th>\n",
       "      <th>belongs_to_collection_id</th>\n",
       "      <th>belongs_to_collection_name</th>\n",
       "      <th>belongs_to_collection_poster_path</th>\n",
       "      <th>belongs_to_collection_backdrop_path</th>\n",
       "    </tr>\n",
       "  </thead>\n",
       "  <tbody>\n",
       "    <tr>\n",
       "      <th>0</th>\n",
       "      <td>False</td>\n",
       "      <td>/k6EOrckWFuz7I4z4wiRwz8zsj4H.jpg</td>\n",
       "      <td>245000000</td>\n",
       "      <td>[{'id': 28, 'name': 'Action'}, {'id': 12, 'nam...</td>\n",
       "      <td>http://www.starwars.com/films/star-wars-episod...</td>\n",
       "      <td>140607</td>\n",
       "      <td>tt2488496</td>\n",
       "      <td>en</td>\n",
       "      <td>Star Wars: The Force Awakens</td>\n",
       "      <td>Thirty years after defeating the Galactic Empi...</td>\n",
       "      <td>35.592</td>\n",
       "      <td>/wqnLdwVXoBjKibFRR5U3y0aDUhs.jpg</td>\n",
       "      <td>[{'id': 1634, 'logo_path': None, 'name': 'True...</td>\n",
       "      <td>[{'iso_3166_1': 'US', 'name': 'United States o...</td>\n",
       "      <td>2015-12-15</td>\n",
       "      <td>2068223624</td>\n",
       "      <td>136</td>\n",
       "      <td>[{'iso_639_1': 'en', 'name': 'English'}]</td>\n",
       "      <td>Released</td>\n",
       "      <td>Every generation has a story.</td>\n",
       "      <td>Star Wars: The Force Awakens</td>\n",
       "      <td>False</td>\n",
       "      <td>7.4</td>\n",
       "      <td>14688</td>\n",
       "      <td>10</td>\n",
       "      <td>Star Wars Collection</td>\n",
       "      <td>/r8Ph5MYXL04Qzu4QBbq2KjqwtkQ.jpg</td>\n",
       "      <td>/d8duYyyC9J5T825Hg7grmaabfxQ.jpg</td>\n",
       "    </tr>\n",
       "  </tbody>\n",
       "</table>\n",
       "</div>"
      ],
      "text/plain": [
       "   adult                     backdrop_path     budget  \\\n",
       "0  False  /k6EOrckWFuz7I4z4wiRwz8zsj4H.jpg  245000000   \n",
       "\n",
       "                                              genres  \\\n",
       "0  [{'id': 28, 'name': 'Action'}, {'id': 12, 'nam...   \n",
       "\n",
       "                                            homepage      id    imdb_id  \\\n",
       "0  http://www.starwars.com/films/star-wars-episod...  140607  tt2488496   \n",
       "\n",
       "  original_language                original_title  \\\n",
       "0                en  Star Wars: The Force Awakens   \n",
       "\n",
       "                                            overview  popularity  \\\n",
       "0  Thirty years after defeating the Galactic Empi...      35.592   \n",
       "\n",
       "                        poster_path  \\\n",
       "0  /wqnLdwVXoBjKibFRR5U3y0aDUhs.jpg   \n",
       "\n",
       "                                production_companies  \\\n",
       "0  [{'id': 1634, 'logo_path': None, 'name': 'True...   \n",
       "\n",
       "                                production_countries release_date     revenue  \\\n",
       "0  [{'iso_3166_1': 'US', 'name': 'United States o...   2015-12-15  2068223624   \n",
       "\n",
       "   runtime                          spoken_languages    status  \\\n",
       "0      136  [{'iso_639_1': 'en', 'name': 'English'}]  Released   \n",
       "\n",
       "                         tagline                         title  video  \\\n",
       "0  Every generation has a story.  Star Wars: The Force Awakens  False   \n",
       "\n",
       "   vote_average  vote_count  belongs_to_collection_id  \\\n",
       "0           7.4       14688                        10   \n",
       "\n",
       "  belongs_to_collection_name belongs_to_collection_poster_path  \\\n",
       "0       Star Wars Collection  /r8Ph5MYXL04Qzu4QBbq2KjqwtkQ.jpg   \n",
       "\n",
       "  belongs_to_collection_backdrop_path  \n",
       "0    /d8duYyyC9J5T825Hg7grmaabfxQ.jpg  "
      ]
     },
     "execution_count": 43,
     "metadata": {},
     "output_type": "execute_result"
    }
   ],
   "source": [
    "# Passing to panda json normalize to flaten and normalize some columns.\n",
    "pd.json_normalize(data, sep = \"_\")"
   ]
  },
  {
   "cell_type": "code",
   "execution_count": 44,
   "metadata": {},
   "outputs": [
    {
     "data": {
      "text/html": [
       "<div>\n",
       "<style scoped>\n",
       "    .dataframe tbody tr th:only-of-type {\n",
       "        vertical-align: middle;\n",
       "    }\n",
       "\n",
       "    .dataframe tbody tr th {\n",
       "        vertical-align: top;\n",
       "    }\n",
       "\n",
       "    .dataframe thead th {\n",
       "        text-align: right;\n",
       "    }\n",
       "</style>\n",
       "<table border=\"1\" class=\"dataframe\">\n",
       "  <thead>\n",
       "    <tr style=\"text-align: right;\">\n",
       "      <th></th>\n",
       "      <th>id</th>\n",
       "      <th>name</th>\n",
       "      <th>title</th>\n",
       "    </tr>\n",
       "  </thead>\n",
       "  <tbody>\n",
       "    <tr>\n",
       "      <th>0</th>\n",
       "      <td>28</td>\n",
       "      <td>Action</td>\n",
       "      <td>Star Wars: The Force Awakens</td>\n",
       "    </tr>\n",
       "    <tr>\n",
       "      <th>1</th>\n",
       "      <td>12</td>\n",
       "      <td>Adventure</td>\n",
       "      <td>Star Wars: The Force Awakens</td>\n",
       "    </tr>\n",
       "    <tr>\n",
       "      <th>2</th>\n",
       "      <td>878</td>\n",
       "      <td>Science Fiction</td>\n",
       "      <td>Star Wars: The Force Awakens</td>\n",
       "    </tr>\n",
       "    <tr>\n",
       "      <th>3</th>\n",
       "      <td>14</td>\n",
       "      <td>Fantasy</td>\n",
       "      <td>Star Wars: The Force Awakens</td>\n",
       "    </tr>\n",
       "  </tbody>\n",
       "</table>\n",
       "</div>"
      ],
      "text/plain": [
       "    id             name                         title\n",
       "0   28           Action  Star Wars: The Force Awakens\n",
       "1   12        Adventure  Star Wars: The Force Awakens\n",
       "2  878  Science Fiction  Star Wars: The Force Awakens\n",
       "3   14          Fantasy  Star Wars: The Force Awakens"
      ]
     },
     "execution_count": 44,
     "metadata": {},
     "output_type": "execute_result"
    }
   ],
   "source": [
    "# Separate data frame for all genre Star Wars.\n",
    "pd.json_normalize(data = data, record_path = \"genres\", meta = \"title\")"
   ]
  },
  {
   "cell_type": "code",
   "execution_count": 45,
   "metadata": {},
   "outputs": [
    {
     "data": {
      "text/html": [
       "<div>\n",
       "<style scoped>\n",
       "    .dataframe tbody tr th:only-of-type {\n",
       "        vertical-align: middle;\n",
       "    }\n",
       "\n",
       "    .dataframe tbody tr th {\n",
       "        vertical-align: top;\n",
       "    }\n",
       "\n",
       "    .dataframe thead th {\n",
       "        text-align: right;\n",
       "    }\n",
       "</style>\n",
       "<table border=\"1\" class=\"dataframe\">\n",
       "  <thead>\n",
       "    <tr style=\"text-align: right;\">\n",
       "      <th></th>\n",
       "      <th>id</th>\n",
       "      <th>logo_path</th>\n",
       "      <th>name</th>\n",
       "      <th>origin_country</th>\n",
       "      <th>title</th>\n",
       "    </tr>\n",
       "  </thead>\n",
       "  <tbody>\n",
       "    <tr>\n",
       "      <th>0</th>\n",
       "      <td>1634</td>\n",
       "      <td>None</td>\n",
       "      <td>Truenorth Productions</td>\n",
       "      <td>IS</td>\n",
       "      <td>Star Wars: The Force Awakens</td>\n",
       "    </tr>\n",
       "    <tr>\n",
       "      <th>1</th>\n",
       "      <td>1</td>\n",
       "      <td>/o86DbpburjxrqAzEDhXZcyE8pDb.png</td>\n",
       "      <td>Lucasfilm Ltd.</td>\n",
       "      <td>US</td>\n",
       "      <td>Star Wars: The Force Awakens</td>\n",
       "    </tr>\n",
       "    <tr>\n",
       "      <th>2</th>\n",
       "      <td>11461</td>\n",
       "      <td>/p9FoEt5shEKRWRKVIlvFaEmRnun.png</td>\n",
       "      <td>Bad Robot</td>\n",
       "      <td>US</td>\n",
       "      <td>Star Wars: The Force Awakens</td>\n",
       "    </tr>\n",
       "  </tbody>\n",
       "</table>\n",
       "</div>"
      ],
      "text/plain": [
       "      id                         logo_path                   name  \\\n",
       "0   1634                              None  Truenorth Productions   \n",
       "1      1  /o86DbpburjxrqAzEDhXZcyE8pDb.png         Lucasfilm Ltd.   \n",
       "2  11461  /p9FoEt5shEKRWRKVIlvFaEmRnun.png              Bad Robot   \n",
       "\n",
       "  origin_country                         title  \n",
       "0             IS  Star Wars: The Force Awakens  \n",
       "1             US  Star Wars: The Force Awakens  \n",
       "2             US  Star Wars: The Force Awakens  "
      ]
     },
     "execution_count": 45,
     "metadata": {},
     "output_type": "execute_result"
    }
   ],
   "source": [
    "# Same for production companies.\n",
    "pd.json_normalize(data = data, record_path = \"production_companies\", meta = \"title\")"
   ]
  },
  {
   "cell_type": "code",
   "execution_count": null,
   "metadata": {},
   "outputs": [],
   "source": []
  }
 ],
 "metadata": {
  "kernelspec": {
   "display_name": "Python 3",
   "language": "python",
   "name": "python3"
  },
  "language_info": {
   "codemirror_mode": {
    "name": "ipython",
    "version": 3
   },
   "file_extension": ".py",
   "mimetype": "text/x-python",
   "name": "python",
   "nbconvert_exporter": "python",
   "pygments_lexer": "ipython3",
   "version": "3.8.3"
  }
 },
 "nbformat": 4,
 "nbformat_minor": 4
}
